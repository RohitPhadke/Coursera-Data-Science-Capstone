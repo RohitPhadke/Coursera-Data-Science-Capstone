{
  "nbformat": 4,
  "nbformat_minor": 0,
  "metadata": {
    "colab": {
      "name": "Explore, Segment, and Cluster the neighborhoods in the city of Toronto.ipynb",
      "provenance": []
    },
    "kernelspec": {
      "name": "python3",
      "display_name": "Python 3"
    }
  },
  "cells": [
    {
      "cell_type": "markdown",
      "metadata": {
        "id": "oIJVdoshVaTp",
        "colab_type": "text"
      },
      "source": [
        "#**IBM Data Science Capstone Course By Coursera - Week 3**\n",
        "###**Tasks:** \n",
        "###**1. Data Collection through Web Scraping for the city of Toronto from Wikipedia.**\n",
        "                             \n",
        "###**2.  Data Preprocessing**\n",
        "***"
      ]
    },
    {
      "cell_type": "markdown",
      "metadata": {
        "id": "V1uq5k-eR4ib",
        "colab_type": "text"
      },
      "source": [
        "##**1. Importing the Libraries**"
      ]
    },
    {
      "cell_type": "code",
      "metadata": {
        "id": "ec9CkN0_AuBm",
        "colab_type": "code",
        "colab": {
          "base_uri": "https://localhost:8080/",
          "height": 35
        },
        "outputId": "2fd5b41b-5950-41a2-c728-b07392e963a2"
      },
      "source": [
        "import numpy as np # library to handle data in a vectorized manner\n",
        "\n",
        "import pandas as pd # library for data analsysis\n",
        "pd.set_option(\"display.max_columns\", None)\n",
        "pd.set_option(\"display.max_rows\", None)\n",
        "\n",
        "import json # library to handle JSON files\n",
        "\n",
        "from geopy.geocoders import Nominatim # convert an address into latitude and longitude values\n",
        "\n",
        "import requests # library to handle requests\n",
        "from bs4 import BeautifulSoup # library to parse HTML and XML documents\n",
        "\n",
        "from pandas.io.json import json_normalize # tranform JSON file into a pandas dataframe\n",
        "\n",
        "# Matplotlib and associated plotting modules\n",
        "import matplotlib.cm as cm\n",
        "import matplotlib.colors as colors\n",
        "\n",
        "# import k-means from clustering stage\n",
        "from sklearn.cluster import KMeans\n",
        "\n",
        "import folium # map rendering library\n",
        "\n",
        "print(\"Libraries imported.\")"
      ],
      "execution_count": 360,
      "outputs": [
        {
          "output_type": "stream",
          "text": [
            "Libraries imported.\n"
          ],
          "name": "stdout"
        }
      ]
    },
    {
      "cell_type": "markdown",
      "metadata": {
        "id": "fmR1Q1C2SDcB",
        "colab_type": "text"
      },
      "source": [
        "##**2. Scrape Data from Wikipedia using BeautifulSoup**"
      ]
    },
    {
      "cell_type": "code",
      "metadata": {
        "id": "IWCLp2n_BBpY",
        "colab_type": "code",
        "colab": {}
      },
      "source": [
        "# send the GET request\n",
        "data = requests.get('https://en.wikipedia.org/wiki/List_of_postal_codes_of_Canada:_M').text"
      ],
      "execution_count": 0,
      "outputs": []
    },
    {
      "cell_type": "code",
      "metadata": {
        "id": "KD8CF7tvBNsK",
        "colab_type": "code",
        "colab": {}
      },
      "source": [
        "# parse data from the html into a beautifulsoup object\n",
        "soup = BeautifulSoup(data, 'html.parser')"
      ],
      "execution_count": 0,
      "outputs": []
    },
    {
      "cell_type": "code",
      "metadata": {
        "id": "dQSM0fhUBQTH",
        "colab_type": "code",
        "colab": {}
      },
      "source": [
        "# create three lists to store table data\n",
        "postalCodeList = []\n",
        "boroughList = []\n",
        "neighborhoodList = []"
      ],
      "execution_count": 0,
      "outputs": []
    },
    {
      "cell_type": "code",
      "metadata": {
        "id": "jkdNIOFmBVNW",
        "colab_type": "code",
        "colab": {}
      },
      "source": [
        "# find the table\n",
        "soup.find('table').find_all('tr')\n",
        "\n",
        "# find all the rows of the table\n",
        "soup.find('table').find_all('tr')\n",
        "\n",
        "# for each row of the table, find all the table data\n",
        "for row in soup.find('table').find_all('tr'):\n",
        "    cells = row.find_all('td')"
      ],
      "execution_count": 0,
      "outputs": []
    },
    {
      "cell_type": "code",
      "metadata": {
        "id": "e2K4_8EEBw3c",
        "colab_type": "code",
        "colab": {}
      },
      "source": [
        "\n",
        "# append the data into the respective lists\n",
        "for row in soup.find('table').find_all('tr'):\n",
        "    cells = row.find_all('td')\n",
        "    if(len(cells) > 0):\n",
        "        postalCodeList.append(cells[0].text)\n",
        "        boroughList.append(cells[1].text)\n",
        "        neighborhoodList.append(cells[2].text.rstrip('\\n')) # avoid new lines in neighborhood cell"
      ],
      "execution_count": 0,
      "outputs": []
    },
    {
      "cell_type": "markdown",
      "metadata": {
        "id": "LFD_KBVwSSET",
        "colab_type": "text"
      },
      "source": [
        "##**3. Creating a dataframe from the scraped data**"
      ]
    },
    {
      "cell_type": "code",
      "metadata": {
        "id": "9YO51CNQBzOr",
        "colab_type": "code",
        "colab": {
          "base_uri": "https://localhost:8080/",
          "height": 194
        },
        "outputId": "86ec4294-b8a2-4630-cd3b-19c9a1452f78"
      },
      "source": [
        "\n",
        "# create a new DataFrame from the three lists\n",
        "df = pd.DataFrame({\"PostalCode\": postalCodeList,\n",
        "                           \"Borough\": boroughList,\n",
        "                           \"Neighborhood\": neighborhoodList})\n",
        "\n",
        "df.head()"
      ],
      "execution_count": 366,
      "outputs": [
        {
          "output_type": "execute_result",
          "data": {
            "text/html": [
              "<div>\n",
              "<style scoped>\n",
              "    .dataframe tbody tr th:only-of-type {\n",
              "        vertical-align: middle;\n",
              "    }\n",
              "\n",
              "    .dataframe tbody tr th {\n",
              "        vertical-align: top;\n",
              "    }\n",
              "\n",
              "    .dataframe thead th {\n",
              "        text-align: right;\n",
              "    }\n",
              "</style>\n",
              "<table border=\"1\" class=\"dataframe\">\n",
              "  <thead>\n",
              "    <tr style=\"text-align: right;\">\n",
              "      <th></th>\n",
              "      <th>PostalCode</th>\n",
              "      <th>Borough</th>\n",
              "      <th>Neighborhood</th>\n",
              "    </tr>\n",
              "  </thead>\n",
              "  <tbody>\n",
              "    <tr>\n",
              "      <th>0</th>\n",
              "      <td>M1A</td>\n",
              "      <td>Not assigned</td>\n",
              "      <td>Not assigned</td>\n",
              "    </tr>\n",
              "    <tr>\n",
              "      <th>1</th>\n",
              "      <td>M2A</td>\n",
              "      <td>Not assigned</td>\n",
              "      <td>Not assigned</td>\n",
              "    </tr>\n",
              "    <tr>\n",
              "      <th>2</th>\n",
              "      <td>M3A</td>\n",
              "      <td>North York</td>\n",
              "      <td>Parkwoods</td>\n",
              "    </tr>\n",
              "    <tr>\n",
              "      <th>3</th>\n",
              "      <td>M4A</td>\n",
              "      <td>North York</td>\n",
              "      <td>Victoria Village</td>\n",
              "    </tr>\n",
              "    <tr>\n",
              "      <th>4</th>\n",
              "      <td>M5A</td>\n",
              "      <td>Downtown Toronto</td>\n",
              "      <td>Harbourfront</td>\n",
              "    </tr>\n",
              "  </tbody>\n",
              "</table>\n",
              "</div>"
            ],
            "text/plain": [
              "  PostalCode           Borough      Neighborhood\n",
              "0        M1A      Not assigned      Not assigned\n",
              "1        M2A      Not assigned      Not assigned\n",
              "2        M3A        North York         Parkwoods\n",
              "3        M4A        North York  Victoria Village\n",
              "4        M5A  Downtown Toronto      Harbourfront"
            ]
          },
          "metadata": {
            "tags": []
          },
          "execution_count": 366
        }
      ]
    },
    {
      "cell_type": "markdown",
      "metadata": {
        "id": "9RR5_-e8Sbba",
        "colab_type": "text"
      },
      "source": [
        "##**4. Droping the cells with borough that is Not assigned**"
      ]
    },
    {
      "cell_type": "code",
      "metadata": {
        "id": "6OHwQsLkB1vr",
        "colab_type": "code",
        "colab": {
          "base_uri": "https://localhost:8080/",
          "height": 194
        },
        "outputId": "a6096196-9801-4b02-c2bf-85f36b54c2c0"
      },
      "source": [
        "df_dropna = df[df.Borough != \"Not assigned\"].reset_index(drop=True)\n",
        "df_dropna.head()"
      ],
      "execution_count": 367,
      "outputs": [
        {
          "output_type": "execute_result",
          "data": {
            "text/html": [
              "<div>\n",
              "<style scoped>\n",
              "    .dataframe tbody tr th:only-of-type {\n",
              "        vertical-align: middle;\n",
              "    }\n",
              "\n",
              "    .dataframe tbody tr th {\n",
              "        vertical-align: top;\n",
              "    }\n",
              "\n",
              "    .dataframe thead th {\n",
              "        text-align: right;\n",
              "    }\n",
              "</style>\n",
              "<table border=\"1\" class=\"dataframe\">\n",
              "  <thead>\n",
              "    <tr style=\"text-align: right;\">\n",
              "      <th></th>\n",
              "      <th>PostalCode</th>\n",
              "      <th>Borough</th>\n",
              "      <th>Neighborhood</th>\n",
              "    </tr>\n",
              "  </thead>\n",
              "  <tbody>\n",
              "    <tr>\n",
              "      <th>0</th>\n",
              "      <td>M3A</td>\n",
              "      <td>North York</td>\n",
              "      <td>Parkwoods</td>\n",
              "    </tr>\n",
              "    <tr>\n",
              "      <th>1</th>\n",
              "      <td>M4A</td>\n",
              "      <td>North York</td>\n",
              "      <td>Victoria Village</td>\n",
              "    </tr>\n",
              "    <tr>\n",
              "      <th>2</th>\n",
              "      <td>M5A</td>\n",
              "      <td>Downtown Toronto</td>\n",
              "      <td>Harbourfront</td>\n",
              "    </tr>\n",
              "    <tr>\n",
              "      <th>3</th>\n",
              "      <td>M6A</td>\n",
              "      <td>North York</td>\n",
              "      <td>Lawrence Heights</td>\n",
              "    </tr>\n",
              "    <tr>\n",
              "      <th>4</th>\n",
              "      <td>M6A</td>\n",
              "      <td>North York</td>\n",
              "      <td>Lawrence Manor</td>\n",
              "    </tr>\n",
              "  </tbody>\n",
              "</table>\n",
              "</div>"
            ],
            "text/plain": [
              "  PostalCode           Borough      Neighborhood\n",
              "0        M3A        North York         Parkwoods\n",
              "1        M4A        North York  Victoria Village\n",
              "2        M5A  Downtown Toronto      Harbourfront\n",
              "3        M6A        North York  Lawrence Heights\n",
              "4        M6A        North York    Lawrence Manor"
            ]
          },
          "metadata": {
            "tags": []
          },
          "execution_count": 367
        }
      ]
    },
    {
      "cell_type": "markdown",
      "metadata": {
        "id": "JUq6EIVHSoj_",
        "colab_type": "text"
      },
      "source": [
        "##**5. Group neighborhoods in the same borough**"
      ]
    },
    {
      "cell_type": "code",
      "metadata": {
        "id": "6yKfnUMMCuv5",
        "colab_type": "code",
        "colab": {
          "base_uri": "https://localhost:8080/",
          "height": 194
        },
        "outputId": "b529f29f-dc1c-4c68-f8fa-2d9526e3f565"
      },
      "source": [
        "df_grouped = df_dropna.groupby([\"PostalCode\", \"Borough\"], as_index=False).agg(lambda x: \", \".join(x))\n",
        "df_grouped.head()"
      ],
      "execution_count": 368,
      "outputs": [
        {
          "output_type": "execute_result",
          "data": {
            "text/html": [
              "<div>\n",
              "<style scoped>\n",
              "    .dataframe tbody tr th:only-of-type {\n",
              "        vertical-align: middle;\n",
              "    }\n",
              "\n",
              "    .dataframe tbody tr th {\n",
              "        vertical-align: top;\n",
              "    }\n",
              "\n",
              "    .dataframe thead th {\n",
              "        text-align: right;\n",
              "    }\n",
              "</style>\n",
              "<table border=\"1\" class=\"dataframe\">\n",
              "  <thead>\n",
              "    <tr style=\"text-align: right;\">\n",
              "      <th></th>\n",
              "      <th>PostalCode</th>\n",
              "      <th>Borough</th>\n",
              "      <th>Neighborhood</th>\n",
              "    </tr>\n",
              "  </thead>\n",
              "  <tbody>\n",
              "    <tr>\n",
              "      <th>0</th>\n",
              "      <td>M1B</td>\n",
              "      <td>Scarborough</td>\n",
              "      <td>Rouge, Malvern</td>\n",
              "    </tr>\n",
              "    <tr>\n",
              "      <th>1</th>\n",
              "      <td>M1C</td>\n",
              "      <td>Scarborough</td>\n",
              "      <td>Highland Creek, Rouge Hill, Port Union</td>\n",
              "    </tr>\n",
              "    <tr>\n",
              "      <th>2</th>\n",
              "      <td>M1E</td>\n",
              "      <td>Scarborough</td>\n",
              "      <td>Guildwood, Morningside, West Hill</td>\n",
              "    </tr>\n",
              "    <tr>\n",
              "      <th>3</th>\n",
              "      <td>M1G</td>\n",
              "      <td>Scarborough</td>\n",
              "      <td>Woburn</td>\n",
              "    </tr>\n",
              "    <tr>\n",
              "      <th>4</th>\n",
              "      <td>M1H</td>\n",
              "      <td>Scarborough</td>\n",
              "      <td>Cedarbrae</td>\n",
              "    </tr>\n",
              "  </tbody>\n",
              "</table>\n",
              "</div>"
            ],
            "text/plain": [
              "  PostalCode      Borough                            Neighborhood\n",
              "0        M1B  Scarborough                          Rouge, Malvern\n",
              "1        M1C  Scarborough  Highland Creek, Rouge Hill, Port Union\n",
              "2        M1E  Scarborough       Guildwood, Morningside, West Hill\n",
              "3        M1G  Scarborough                                  Woburn\n",
              "4        M1H  Scarborough                               Cedarbrae"
            ]
          },
          "metadata": {
            "tags": []
          },
          "execution_count": 368
        }
      ]
    },
    {
      "cell_type": "markdown",
      "metadata": {
        "id": "N2ShQ6-nSzFp",
        "colab_type": "text"
      },
      "source": [
        "##**6. For Neighborhood=\"Not assigned\", make the value the same as Borough**"
      ]
    },
    {
      "cell_type": "code",
      "metadata": {
        "id": "CuJSC2ovC7aL",
        "colab_type": "code",
        "colab": {
          "base_uri": "https://localhost:8080/",
          "height": 194
        },
        "outputId": "618386db-a78d-41af-99d6-d6c24d9fb57b"
      },
      "source": [
        "for index, row in df_grouped.iterrows():\n",
        "    if row[\"Neighborhood\"] == \"Not assigned\":\n",
        "        row[\"Neighborhood\"] = row[\"Borough\"]\n",
        "        \n",
        "df_grouped.head()"
      ],
      "execution_count": 369,
      "outputs": [
        {
          "output_type": "execute_result",
          "data": {
            "text/html": [
              "<div>\n",
              "<style scoped>\n",
              "    .dataframe tbody tr th:only-of-type {\n",
              "        vertical-align: middle;\n",
              "    }\n",
              "\n",
              "    .dataframe tbody tr th {\n",
              "        vertical-align: top;\n",
              "    }\n",
              "\n",
              "    .dataframe thead th {\n",
              "        text-align: right;\n",
              "    }\n",
              "</style>\n",
              "<table border=\"1\" class=\"dataframe\">\n",
              "  <thead>\n",
              "    <tr style=\"text-align: right;\">\n",
              "      <th></th>\n",
              "      <th>PostalCode</th>\n",
              "      <th>Borough</th>\n",
              "      <th>Neighborhood</th>\n",
              "    </tr>\n",
              "  </thead>\n",
              "  <tbody>\n",
              "    <tr>\n",
              "      <th>0</th>\n",
              "      <td>M1B</td>\n",
              "      <td>Scarborough</td>\n",
              "      <td>Rouge, Malvern</td>\n",
              "    </tr>\n",
              "    <tr>\n",
              "      <th>1</th>\n",
              "      <td>M1C</td>\n",
              "      <td>Scarborough</td>\n",
              "      <td>Highland Creek, Rouge Hill, Port Union</td>\n",
              "    </tr>\n",
              "    <tr>\n",
              "      <th>2</th>\n",
              "      <td>M1E</td>\n",
              "      <td>Scarborough</td>\n",
              "      <td>Guildwood, Morningside, West Hill</td>\n",
              "    </tr>\n",
              "    <tr>\n",
              "      <th>3</th>\n",
              "      <td>M1G</td>\n",
              "      <td>Scarborough</td>\n",
              "      <td>Woburn</td>\n",
              "    </tr>\n",
              "    <tr>\n",
              "      <th>4</th>\n",
              "      <td>M1H</td>\n",
              "      <td>Scarborough</td>\n",
              "      <td>Cedarbrae</td>\n",
              "    </tr>\n",
              "  </tbody>\n",
              "</table>\n",
              "</div>"
            ],
            "text/plain": [
              "  PostalCode      Borough                            Neighborhood\n",
              "0        M1B  Scarborough                          Rouge, Malvern\n",
              "1        M1C  Scarborough  Highland Creek, Rouge Hill, Port Union\n",
              "2        M1E  Scarborough       Guildwood, Morningside, West Hill\n",
              "3        M1G  Scarborough                                  Woburn\n",
              "4        M1H  Scarborough                               Cedarbrae"
            ]
          },
          "metadata": {
            "tags": []
          },
          "execution_count": 369
        }
      ]
    },
    {
      "cell_type": "markdown",
      "metadata": {
        "id": "7oETNlI6S89h",
        "colab_type": "text"
      },
      "source": [
        "##**7. Create a new data frame**"
      ]
    },
    {
      "cell_type": "code",
      "metadata": {
        "id": "GTKcyG3PJr2P",
        "colab_type": "code",
        "colab": {
          "base_uri": "https://localhost:8080/",
          "height": 399
        },
        "outputId": "7e142c87-9ffa-469d-fe05-2de0062d9f3b"
      },
      "source": [
        "column_names = [\"PostalCode\", \"Borough\", \"Neighborhood\"]\n",
        "test_df = pd.DataFrame(columns=column_names)\n",
        "\n",
        "test_list = [\"M5G\", \"M2H\", \"M4B\", \"M1J\", \"M4G\", \"M4M\", \"M1R\", \"M9V\", \"M9L\", \"M5V\", \"M1B\", \"M5A\"]\n",
        "\n",
        "for postcode in test_list:\n",
        "    test_df = test_df.append(df_grouped[df_grouped[\"PostalCode\"]==postcode], ignore_index=True)\n",
        "    \n",
        "test_df"
      ],
      "execution_count": 370,
      "outputs": [
        {
          "output_type": "execute_result",
          "data": {
            "text/html": [
              "<div>\n",
              "<style scoped>\n",
              "    .dataframe tbody tr th:only-of-type {\n",
              "        vertical-align: middle;\n",
              "    }\n",
              "\n",
              "    .dataframe tbody tr th {\n",
              "        vertical-align: top;\n",
              "    }\n",
              "\n",
              "    .dataframe thead th {\n",
              "        text-align: right;\n",
              "    }\n",
              "</style>\n",
              "<table border=\"1\" class=\"dataframe\">\n",
              "  <thead>\n",
              "    <tr style=\"text-align: right;\">\n",
              "      <th></th>\n",
              "      <th>PostalCode</th>\n",
              "      <th>Borough</th>\n",
              "      <th>Neighborhood</th>\n",
              "    </tr>\n",
              "  </thead>\n",
              "  <tbody>\n",
              "    <tr>\n",
              "      <th>0</th>\n",
              "      <td>M5G</td>\n",
              "      <td>Downtown Toronto</td>\n",
              "      <td>Central Bay Street</td>\n",
              "    </tr>\n",
              "    <tr>\n",
              "      <th>1</th>\n",
              "      <td>M2H</td>\n",
              "      <td>North York</td>\n",
              "      <td>Hillcrest Village</td>\n",
              "    </tr>\n",
              "    <tr>\n",
              "      <th>2</th>\n",
              "      <td>M4B</td>\n",
              "      <td>East York</td>\n",
              "      <td>Woodbine Gardens, Parkview Hill</td>\n",
              "    </tr>\n",
              "    <tr>\n",
              "      <th>3</th>\n",
              "      <td>M1J</td>\n",
              "      <td>Scarborough</td>\n",
              "      <td>Scarborough Village</td>\n",
              "    </tr>\n",
              "    <tr>\n",
              "      <th>4</th>\n",
              "      <td>M4G</td>\n",
              "      <td>East York</td>\n",
              "      <td>Leaside</td>\n",
              "    </tr>\n",
              "    <tr>\n",
              "      <th>5</th>\n",
              "      <td>M4M</td>\n",
              "      <td>East Toronto</td>\n",
              "      <td>Studio District</td>\n",
              "    </tr>\n",
              "    <tr>\n",
              "      <th>6</th>\n",
              "      <td>M1R</td>\n",
              "      <td>Scarborough</td>\n",
              "      <td>Maryvale, Wexford</td>\n",
              "    </tr>\n",
              "    <tr>\n",
              "      <th>7</th>\n",
              "      <td>M9V</td>\n",
              "      <td>Etobicoke</td>\n",
              "      <td>Albion Gardens, Beaumond Heights, Humbergate, ...</td>\n",
              "    </tr>\n",
              "    <tr>\n",
              "      <th>8</th>\n",
              "      <td>M9L</td>\n",
              "      <td>North York</td>\n",
              "      <td>Humber Summit</td>\n",
              "    </tr>\n",
              "    <tr>\n",
              "      <th>9</th>\n",
              "      <td>M5V</td>\n",
              "      <td>Downtown Toronto</td>\n",
              "      <td>CN Tower, Bathurst Quay, Island airport, Harbo...</td>\n",
              "    </tr>\n",
              "    <tr>\n",
              "      <th>10</th>\n",
              "      <td>M1B</td>\n",
              "      <td>Scarborough</td>\n",
              "      <td>Rouge, Malvern</td>\n",
              "    </tr>\n",
              "    <tr>\n",
              "      <th>11</th>\n",
              "      <td>M5A</td>\n",
              "      <td>Downtown Toronto</td>\n",
              "      <td>Harbourfront</td>\n",
              "    </tr>\n",
              "  </tbody>\n",
              "</table>\n",
              "</div>"
            ],
            "text/plain": [
              "   PostalCode           Borough  \\\n",
              "0         M5G  Downtown Toronto   \n",
              "1         M2H        North York   \n",
              "2         M4B         East York   \n",
              "3         M1J       Scarborough   \n",
              "4         M4G         East York   \n",
              "5         M4M      East Toronto   \n",
              "6         M1R       Scarborough   \n",
              "7         M9V         Etobicoke   \n",
              "8         M9L        North York   \n",
              "9         M5V  Downtown Toronto   \n",
              "10        M1B       Scarborough   \n",
              "11        M5A  Downtown Toronto   \n",
              "\n",
              "                                         Neighborhood  \n",
              "0                                  Central Bay Street  \n",
              "1                                   Hillcrest Village  \n",
              "2                     Woodbine Gardens, Parkview Hill  \n",
              "3                                 Scarborough Village  \n",
              "4                                             Leaside  \n",
              "5                                     Studio District  \n",
              "6                                   Maryvale, Wexford  \n",
              "7   Albion Gardens, Beaumond Heights, Humbergate, ...  \n",
              "8                                       Humber Summit  \n",
              "9   CN Tower, Bathurst Quay, Island airport, Harbo...  \n",
              "10                                     Rouge, Malvern  \n",
              "11                                       Harbourfront  "
            ]
          },
          "metadata": {
            "tags": []
          },
          "execution_count": 370
        }
      ]
    },
    {
      "cell_type": "markdown",
      "metadata": {
        "id": "j1-xueLTTEOy",
        "colab_type": "text"
      },
      "source": [
        "##**8. Print the number of rows of the cleaned data frame**"
      ]
    },
    {
      "cell_type": "code",
      "metadata": {
        "id": "durAuL3UE06H",
        "colab_type": "code",
        "colab": {
          "base_uri": "https://localhost:8080/",
          "height": 35
        },
        "outputId": "7ebe6c71-bffd-4b6b-db8f-2bff79fd8ba8"
      },
      "source": [
        "df_grouped.shape"
      ],
      "execution_count": 371,
      "outputs": [
        {
          "output_type": "execute_result",
          "data": {
            "text/plain": [
              "(103, 3)"
            ]
          },
          "metadata": {
            "tags": []
          },
          "execution_count": 371
        }
      ]
    }
  ]
}